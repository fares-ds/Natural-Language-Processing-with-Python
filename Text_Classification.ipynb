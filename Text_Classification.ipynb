{
 "cells": [
  {
   "cell_type": "code",
   "execution_count": 22,
   "metadata": {},
   "outputs": [],
   "source": [
    "import pandas as pd\n",
    "import numpy as np\n",
    "\n",
    "from sklearn.model_selection import train_test_split\n",
    "from sklearn.feature_extraction.text import TfidfVectorizer\n",
    "\n",
    "from sklearn.linear_model import LogisticRegression\n",
    "from sklearn.svm import LinearSVC\n",
    "from sklearn.naive_bayes import MultinomialNB"
   ]
  },
  {
   "cell_type": "code",
   "execution_count": 24,
   "metadata": {},
   "outputs": [
    {
     "name": "stdout",
     "output_type": "stream",
     "text": [
      "=============Splitting the data=============\n",
      "Data shape: (5572, 2)\n",
      "X_Train shape: (3900,), y_train shape: (3900,)\n",
      "X_Test shape: (1672,), y_test shape: (1672,)\n",
      "\n",
      "============Message Preprocessing============\n",
      "Training and testing data shape after pre-processing:\n",
      "X_Train shape: (3900, 7263), y_train shape: (3900,)\n",
      "X_Test shape: (1672, 7263), y_test shape: (1672,)\n",
      "\n",
      "=============Model Building==================\n",
      "BEGIN. Logistic Regression......\n",
      "END. Logistic Regression\n",
      "\n",
      "BEGIN. Support Vector Machine.........\n",
      "END. Support Vector Machine\n",
      "\n",
      "BEGIN. Naive Bayes..........\n",
      "END. Naive Bayes\n",
      "\n"
     ]
    }
   ],
   "source": [
    "data = pd.read_csv('data/sms.tsv', delimiter='\\t', names=['Label', 'Message'])\n",
    "\n",
    "print('=============Splitting the data=============')\n",
    "X = data.Message\n",
    "y = data.Label\n",
    "print(f'Data shape: {data.shape}')\n",
    "\n",
    "X_train, X_test, y_train, y_test = train_test_split(X, y, test_size=0.3, random_state=42)\n",
    "print(f'X_Train shape: {X_train.shape}, y_train shape: {y_train.shape}')\n",
    "print(f'X_Test shape: {X_test.shape}, y_test shape: {y_test.shape}')\n",
    "\n",
    "print('\\n============Message Preprocessing============')\n",
    "vectorizer = TfidfVectorizer()\n",
    "X_train_vect = vectorizer.fit_transform(X_train)\n",
    "X_test_vect = vectorizer.transform(X_test)\n",
    "\n",
    "print('Training and testing data shape after pre-processing:')\n",
    "print(f'X_Train shape: {X_train_vect.shape}, y_train shape: {y_train.shape}')\n",
    "print(f'X_Test shape: {X_test_vect.shape}, y_test shape: {y_test.shape}')\n",
    "\n",
    "print('\\n=============Model Building==================')\n",
    "print('BEGIN. Logistic Regression......')\n",
    "lr_model = LogisticRegression()\n",
    "lr_model.fit(X_train_vect, y_train)\n",
    "lr_y_pred = lr_model.predict(X_test_vect)\n",
    "print('END. Logistic Regression\\n')\n",
    "\n",
    "print('BEGIN. Support Vector Machine.........')\n",
    "svm_model = LinearSVC()\n",
    "svm_model.fit(X_train_vect, y_train)\n",
    "svm_y_pred = svm_model.predict(X_test_vect)\n",
    "print('END. Support Vector Machine\\n')\n",
    "\n",
    "print('BEGIN. Naive Bayes..........')\n",
    "nb_model = MultinomialNB()\n",
    "nb_model.fit(X_train_vect, y_train)\n",
    "nb_y_pred = nb_model.predict(X_test_vect)\n",
    "print('END. Naive Bayes\\n')"
   ]
  },
  {
   "cell_type": "code",
   "execution_count": 17,
   "metadata": {},
   "outputs": [
    {
     "data": {
      "text/plain": [
       "708     Quite late lar... Ard 12 anyway i wun b drivin...\n",
       "4338                        on a Tuesday night r u 4 real\n",
       "5029    Go chase after her and run her over while she'...\n",
       "4921     G says you never answer your texts, confirm/deny\n",
       "2592         Still work going on:)it is very small house.\n",
       "                              ...                        \n",
       "3772    Hi, wlcome back, did wonder if you got eaten b...\n",
       "5191                               Sorry, I'll call later\n",
       "5226        Prabha..i'm soryda..realy..frm heart i'm sory\n",
       "5390                           Nt joking seriously i told\n",
       "860               Did he just say somebody is named tampa\n",
       "Name: Message, Length: 3900, dtype: object"
      ]
     },
     "execution_count": 17,
     "metadata": {},
     "output_type": "execute_result"
    }
   ],
   "source": [
    "X_train"
   ]
  },
  {
   "cell_type": "code",
   "execution_count": 8,
   "metadata": {},
   "outputs": [
    {
     "data": {
      "text/plain": [
       "(5572,)"
      ]
     },
     "execution_count": 8,
     "metadata": {},
     "output_type": "execute_result"
    }
   ],
   "source": [
    "y.shape"
   ]
  },
  {
   "cell_type": "code",
   "execution_count": null,
   "metadata": {},
   "outputs": [],
   "source": []
  }
 ],
 "metadata": {
  "kernelspec": {
   "display_name": "Python 3",
   "language": "python",
   "name": "python3"
  },
  "language_info": {
   "codemirror_mode": {
    "name": "ipython",
    "version": 3
   },
   "file_extension": ".py",
   "mimetype": "text/x-python",
   "name": "python",
   "nbconvert_exporter": "python",
   "pygments_lexer": "ipython3",
   "version": "3.8.3"
  }
 },
 "nbformat": 4,
 "nbformat_minor": 4
}
